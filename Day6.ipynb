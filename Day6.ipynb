{
 "cells": [
  {
   "cell_type": "code",
   "execution_count": 1,
   "id": "7b8c7b7d-3cad-4d45-a8c1-cd910401dca7",
   "metadata": {},
   "outputs": [
    {
     "name": "stdout",
     "output_type": "stream",
     "text": [
      "Keep up the good work,John\n",
      "Keep up the good work,Haneefa\n",
      "Keep up the good work,Sharon\n",
      "Keep up the good work,Indhu\n",
      "Keep up the good work,Mahesh\n",
      "Keep up the good work,Arvind\n"
     ]
    }
   ],
   "source": [
    "#introduction to looping statements\n",
    "students=['john','haneefa','sharon','indhu','mahesh','arvind']\n",
    "for student in students:\n",
    "    print(f\"Keep up the good work,{student.title()}\")"
   ]
  },
  {
   "cell_type": "code",
   "execution_count": 7,
   "id": "1b97b599-636c-4375-ad88-5aeb1615b842",
   "metadata": {},
   "outputs": [
    {
     "name": "stdout",
     "output_type": "stream",
     "text": [
      "Keep up the good work,John\n",
      "I am waiting for today's update,John\n",
      "\n",
      "Keep up the good work,Haneefa\n",
      "I am waiting for today's update,Haneefa\n",
      "\n",
      "Keep up the good work,Sharon\n",
      "I am waiting for today's update,Sharon\n",
      "\n",
      "Keep up the good work,Indhu\n",
      "I am waiting for today's update,Indhu\n",
      "\n",
      "Keep up the good work,Mahesh\n",
      "I am waiting for today's update,Mahesh\n",
      "\n",
      "Keep up the good work,Arvind\n",
      "I am waiting for today's update,Arvind\n",
      "\n"
     ]
    }
   ],
   "source": [
    "for student in students:\n",
    "    print(f\"Keep up the good work,{student.title()}\")\n",
    "    print(f\"I am waiting for today's update,{student.title()}\\n\")"
   ]
  },
  {
   "cell_type": "code",
   "execution_count": 9,
   "id": "a1e32905-c80e-4e5d-ae5d-57b38ead7206",
   "metadata": {},
   "outputs": [
    {
     "name": "stdout",
     "output_type": "stream",
     "text": [
      "Keep up the good work,John\n",
      "I am waiting for today's update,John\n",
      "\n",
      "Keep up the good work,Haneefa\n",
      "I am waiting for today's update,Haneefa\n",
      "\n",
      "Keep up the good work,Sharon\n",
      "I am waiting for today's update,Sharon\n",
      "\n",
      "Keep up the good work,Indhu\n",
      "I am waiting for today's update,Indhu\n",
      "\n",
      "Keep up the good work,Mahesh\n",
      "I am waiting for today's update,Mahesh\n",
      "\n",
      "Keep up the good work,Arvind\n",
      "I am waiting for today's update,Arvind\n",
      "\n",
      "Thank you for showing interest\n"
     ]
    }
   ],
   "source": [
    "for student in students:\n",
    "    print(f\"Keep up the good work,{student.title()}\")\n",
    "    print(f\"I am waiting for today's update,{student.title()}\\n\")\n",
    "print(\"Thank you for showing interest\")"
   ]
  },
  {
   "cell_type": "code",
   "execution_count": null,
   "id": "fa995b75-677a-48b6-85e4-47dceef594bf",
   "metadata": {},
   "outputs": [],
   "source": []
  },
  {
   "cell_type": "code",
   "execution_count": null,
   "id": "8bc37ca3-f087-4d55-b71f-d7deda56462a",
   "metadata": {},
   "outputs": [],
   "source": []
  },
  {
   "cell_type": "code",
   "execution_count": null,
   "id": "8b91f923-7a46-40b1-af90-c9edc7637e42",
   "metadata": {},
   "outputs": [],
   "source": []
  },
  {
   "cell_type": "code",
   "execution_count": null,
   "id": "e350f121-8bf7-46ab-8a98-50eb21928871",
   "metadata": {},
   "outputs": [],
   "source": []
  },
  {
   "cell_type": "code",
   "execution_count": null,
   "id": "80023c30-6833-473d-8492-49aca738f383",
   "metadata": {},
   "outputs": [],
   "source": []
  }
 ],
 "metadata": {
  "kernelspec": {
   "display_name": "Python 3 (ipykernel)",
   "language": "python",
   "name": "python3"
  },
  "language_info": {
   "codemirror_mode": {
    "name": "ipython",
    "version": 3
   },
   "file_extension": ".py",
   "mimetype": "text/x-python",
   "name": "python",
   "nbconvert_exporter": "python",
   "pygments_lexer": "ipython3",
   "version": "3.12.4"
  }
 },
 "nbformat": 4,
 "nbformat_minor": 5
}
