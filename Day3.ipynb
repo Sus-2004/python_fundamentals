{
 "cells": [
  {
   "cell_type": "code",
   "execution_count": 1,
   "id": "d738cbf1-8c97-413b-822f-a1c74b910977",
   "metadata": {},
   "outputs": [
    {
     "name": "stdout",
     "output_type": "stream",
     "text": [
      "SusmithaPriya\n"
     ]
    }
   ],
   "source": [
    "#introduction to f string\n",
    "name1=\"Susmitha\"\n",
    "name2=\"Priya\"\n",
    "name=f\"{name1}{name2}\"\n",
    "print(name)"
   ]
  },
  {
   "cell_type": "code",
   "execution_count": 7,
   "id": "f69eb329-dfdd-4f82-a04f-91851d2d282a",
   "metadata": {},
   "outputs": [
    {
     "name": "stdout",
     "output_type": "stream",
     "text": [
      "Keep up the Good work,SusmithaPriya\n"
     ]
    }
   ],
   "source": [
    "message=f\"Keep up the Good work,{name}\"\n",
    "print(message)"
   ]
  },
  {
   "cell_type": "code",
   "execution_count": 9,
   "id": "1ee21c3d-0c30-4324-a2ac-012d769f374b",
   "metadata": {},
   "outputs": [
    {
     "name": "stdout",
     "output_type": "stream",
     "text": [
      "Favourite programming language:\n",
      "Python\n",
      "c++\n",
      "pascal\n",
      "Cobol\n"
     ]
    }
   ],
   "source": [
    "#Adding white space to the string\n",
    "print(\"Favourite programming language:\\nPython\\nc++\\npascal\\nCobol\")"
   ]
  },
  {
   "cell_type": "code",
   "execution_count": 11,
   "id": "36dd81c5-8d7b-45bf-8ad5-f26386c1cf88",
   "metadata": {},
   "outputs": [
    {
     "name": "stdout",
     "output_type": "stream",
     "text": [
      "Numbers:\n",
      "\t1\n",
      "\t2\n",
      "\t3\n",
      "\t4\n",
      "\t5\n"
     ]
    }
   ],
   "source": [
    "print(\"Numbers:\\n\\t1\\n\\t2\\n\\t3\\n\\t4\\n\\t5\")"
   ]
  },
  {
   "cell_type": "code",
   "execution_count": null,
   "id": "dad5f0e9-8f0c-4258-afa6-15802dc13a14",
   "metadata": {},
   "outputs": [],
   "source": []
  }
 ],
 "metadata": {
  "kernelspec": {
   "display_name": "Python 3 (ipykernel)",
   "language": "python",
   "name": "python3"
  },
  "language_info": {
   "codemirror_mode": {
    "name": "ipython",
    "version": 3
   },
   "file_extension": ".py",
   "mimetype": "text/x-python",
   "name": "python",
   "nbconvert_exporter": "python",
   "pygments_lexer": "ipython3",
   "version": "3.12.4"
  }
 },
 "nbformat": 4,
 "nbformat_minor": 5
}
