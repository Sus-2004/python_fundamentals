{
 "cells": [
  {
   "cell_type": "code",
   "execution_count": 1,
   "id": "d3f99378-ba82-4c57-9ec8-c2193e330d03",
   "metadata": {},
   "outputs": [
    {
     "name": "stdout",
     "output_type": "stream",
     "text": [
      "['Susmitha', 'Priya', 'Sneha', 'Sowmya', 'Ramesh']\n"
     ]
    }
   ],
   "source": [
    "#introduction to list data types\n",
    "students=['Susmitha','Priya','Sneha','Sowmya','Ramesh']\n",
    "print(students)"
   ]
  },
  {
   "cell_type": "code",
   "execution_count": 3,
   "id": "703f02d4-2d11-4561-bc50-cca7336f23c8",
   "metadata": {},
   "outputs": [
    {
     "name": "stdout",
     "output_type": "stream",
     "text": [
      "Priya\n"
     ]
    }
   ],
   "source": [
    "print(students[1])"
   ]
  },
  {
   "cell_type": "code",
   "execution_count": 5,
   "id": "4a072b2d-3e28-4125-8888-9ca1a772bfd6",
   "metadata": {},
   "outputs": [
    {
     "name": "stdout",
     "output_type": "stream",
     "text": [
      "Susmitha\n"
     ]
    }
   ],
   "source": [
    "print(students[0])"
   ]
  },
  {
   "cell_type": "code",
   "execution_count": 7,
   "id": "feb1dda9-7cc7-48a0-917f-cf0a6dd11cde",
   "metadata": {},
   "outputs": [
    {
     "name": "stdout",
     "output_type": "stream",
     "text": [
      "Ramesh\n"
     ]
    }
   ],
   "source": [
    "print(students[4])"
   ]
  },
  {
   "cell_type": "code",
   "execution_count": 11,
   "id": "908909f7-9d84-412d-8906-0409dcd6cf53",
   "metadata": {},
   "outputs": [
    {
     "name": "stdout",
     "output_type": "stream",
     "text": [
      "['Susmitha', 'Priya', 'Sneha', 'Sowmya', 'Ramesh', 'Purvith', 'Purvith']\n"
     ]
    }
   ],
   "source": [
    "students.append('Purvith')\n",
    "print(students)"
   ]
  },
  {
   "cell_type": "code",
   "execution_count": 15,
   "id": "c42e201c-32f1-4e13-b091-044faa352537",
   "metadata": {},
   "outputs": [
    {
     "name": "stdout",
     "output_type": "stream",
     "text": [
      "['Susmitha', 'Priya', 'Sneha', 'Suganya', 'Suganya', 'Sowmya', 'Ramesh', 'Purvith', 'Purvith']\n"
     ]
    }
   ],
   "source": [
    "students.insert(3,'Suganya')\n",
    "print(students)"
   ]
  },
  {
   "cell_type": "code",
   "execution_count": 17,
   "id": "2c339892-bd34-4a45-9803-ac5c20b711e3",
   "metadata": {},
   "outputs": [
    {
     "name": "stdout",
     "output_type": "stream",
     "text": [
      "['Susmitha', 'Priya', 'Sneha', 'Suganya', 'Sowmya', 'Ramesh', 'Purvith', 'Purvith']\n"
     ]
    }
   ],
   "source": [
    "del students[4]\n",
    "print(students)"
   ]
  },
  {
   "cell_type": "code",
   "execution_count": null,
   "id": "335d2df2-2b4e-499c-8d40-38ce44031601",
   "metadata": {},
   "outputs": [],
   "source": []
  },
  {
   "cell_type": "code",
   "execution_count": null,
   "id": "6d12b2e4-81e5-4b00-a922-f04184cddb74",
   "metadata": {},
   "outputs": [],
   "source": []
  }
 ],
 "metadata": {
  "kernelspec": {
   "display_name": "Python 3 (ipykernel)",
   "language": "python",
   "name": "python3"
  },
  "language_info": {
   "codemirror_mode": {
    "name": "ipython",
    "version": 3
   },
   "file_extension": ".py",
   "mimetype": "text/x-python",
   "name": "python",
   "nbconvert_exporter": "python",
   "pygments_lexer": "ipython3",
   "version": "3.12.4"
  }
 },
 "nbformat": 4,
 "nbformat_minor": 5
}
