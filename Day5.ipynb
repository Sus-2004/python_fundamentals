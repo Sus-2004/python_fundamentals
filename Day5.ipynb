{
 "cells": [
  {
   "cell_type": "code",
   "execution_count": 1,
   "id": "71edd6aa-db04-4d51-a02e-58b04b13ccb5",
   "metadata": {},
   "outputs": [
    {
     "name": "stdout",
     "output_type": "stream",
     "text": [
      "['Raja', 'Ramesh', 'Ramya', 'Sanvika', 'Suganya', 'Vijiya']\n"
     ]
    }
   ],
   "source": [
    "names=['Ramesh','Suganya','Vijiya','Raja','Ramya','Sanvika']\n",
    "print(sorted(names))\n"
   ]
  },
  {
   "cell_type": "code",
   "execution_count": 3,
   "id": "382008c9-e583-4218-b30a-2bbebb0a2e3a",
   "metadata": {},
   "outputs": [
    {
     "name": "stdout",
     "output_type": "stream",
     "text": [
      "['Raja', 'Ramesh', 'Ramya', 'Sanvika', 'Suganya', 'Vijiya']\n"
     ]
    }
   ],
   "source": [
    "names.sort()\n",
    "print(names)"
   ]
  },
  {
   "cell_type": "code",
   "execution_count": 5,
   "id": "da758ee6-26e3-4eee-8632-ddc411ac7a5a",
   "metadata": {},
   "outputs": [
    {
     "data": {
      "text/plain": [
       "6"
      ]
     },
     "execution_count": 5,
     "metadata": {},
     "output_type": "execute_result"
    }
   ],
   "source": [
    "len(names)"
   ]
  },
  {
   "cell_type": "code",
   "execution_count": 7,
   "id": "441dd0e3-94fc-483e-8a49-68348b685ec0",
   "metadata": {},
   "outputs": [
    {
     "name": "stdout",
     "output_type": "stream",
     "text": [
      "['Vijiya', 'Suganya', 'Sanvika', 'Ramya', 'Ramesh', 'Raja']\n"
     ]
    }
   ],
   "source": [
    "names.reverse()\n",
    "print(names)"
   ]
  },
  {
   "cell_type": "code",
   "execution_count": 9,
   "id": "e36736f6-aa1a-447f-991b-29bd7bc97c55",
   "metadata": {},
   "outputs": [
    {
     "name": "stdout",
     "output_type": "stream",
     "text": [
      "['Vijiya']\n"
     ]
    }
   ],
   "source": [
    "print(names[0:1])"
   ]
  },
  {
   "cell_type": "code",
   "execution_count": 13,
   "id": "30469878-ac6c-4c90-8e10-0d0be93ecf97",
   "metadata": {},
   "outputs": [
    {
     "name": "stdout",
     "output_type": "stream",
     "text": [
      "['Vijiya', 'Sanvika', 'Ramesh']\n"
     ]
    }
   ],
   "source": [
    "print(names[0:6:2])"
   ]
  },
  {
   "cell_type": "code",
   "execution_count": null,
   "id": "0decd3e9-0fab-4152-9d8f-2bb2db7237bf",
   "metadata": {},
   "outputs": [],
   "source": []
  },
  {
   "cell_type": "code",
   "execution_count": null,
   "id": "bc561533-5217-47ff-a6f6-89a793b27136",
   "metadata": {},
   "outputs": [],
   "source": []
  },
  {
   "cell_type": "code",
   "execution_count": null,
   "id": "e2646a18-6f38-4589-b96c-b688fe37584e",
   "metadata": {},
   "outputs": [],
   "source": []
  },
  {
   "cell_type": "code",
   "execution_count": null,
   "id": "95003e97-c08d-42ae-958e-db9e79b5bb1b",
   "metadata": {},
   "outputs": [],
   "source": []
  },
  {
   "cell_type": "code",
   "execution_count": null,
   "id": "0fd29ff4-897e-4484-ae4f-fb2d3a7469ef",
   "metadata": {},
   "outputs": [],
   "source": []
  },
  {
   "cell_type": "code",
   "execution_count": null,
   "id": "b1b59658-a263-43bd-9f65-8dcc391fb70e",
   "metadata": {},
   "outputs": [],
   "source": []
  },
  {
   "cell_type": "code",
   "execution_count": null,
   "id": "47ee172f-7a43-4149-9922-4c91c6abfc62",
   "metadata": {},
   "outputs": [],
   "source": []
  }
 ],
 "metadata": {
  "kernelspec": {
   "display_name": "Python 3 (ipykernel)",
   "language": "python",
   "name": "python3"
  },
  "language_info": {
   "codemirror_mode": {
    "name": "ipython",
    "version": 3
   },
   "file_extension": ".py",
   "mimetype": "text/x-python",
   "name": "python",
   "nbconvert_exporter": "python",
   "pygments_lexer": "ipython3",
   "version": "3.12.4"
  }
 },
 "nbformat": 4,
 "nbformat_minor": 5
}
